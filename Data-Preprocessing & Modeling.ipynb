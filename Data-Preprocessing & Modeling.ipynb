{
 "cells": [
  {
   "cell_type": "markdown",
   "id": "26e3a38b",
   "metadata": {},
   "source": [
    "# Import Packages"
   ]
  },
  {
   "cell_type": "code",
   "execution_count": 6,
   "id": "6fabf789",
   "metadata": {},
   "outputs": [],
   "source": [
    "import numpy as np\n",
    "import pandas as pd\n",
    "import seaborn as sns\n",
    "import matplotlib.pyplot as plt\n",
    "import os , pickle\n",
    "# Modeling\n",
    "from sklearn.linear_model import LinearRegression , Lasso , Ridge\n",
    "from sklearn.neighbors import KNeighborsRegressor\n",
    "from sklearn.svm import SVR\n",
    "from sklearn.tree import DecisionTreeRegressor\n",
    "from sklearn.ensemble import RandomForestRegressor , AdaBoostRegressor \n",
    "from sklearn.metrics import mean_squared_error , r2_score , mean_absolute_error\n",
    "from sklearn.model_selection import train_test_split\n",
    "from sklearn.compose import ColumnTransformer\n",
    "\n",
    "from catboost import CatBoostRegressor\n",
    "from xgboost import XGBRegressor\n",
    "import warnings"
   ]
  },
  {
   "cell_type": "markdown",
   "id": "4adfd92a",
   "metadata": {},
   "source": [
    "### Import CSV File as Pandas DataFrame"
   ]
  },
  {
   "cell_type": "code",
   "execution_count": 7,
   "id": "6c902ffe",
   "metadata": {},
   "outputs": [],
   "source": [
    "df = pd.read_csv('../data/StudentsPerformance.csv')"
   ]
  },
  {
   "cell_type": "markdown",
   "id": "a6174ba0",
   "metadata": {},
   "source": [
    "### Show Top 5 records"
   ]
  },
  {
   "cell_type": "code",
   "execution_count": 8,
   "id": "f4158c43",
   "metadata": {},
   "outputs": [
    {
     "data": {
      "text/html": [
       "<div>\n",
       "<style scoped>\n",
       "    .dataframe tbody tr th:only-of-type {\n",
       "        vertical-align: middle;\n",
       "    }\n",
       "\n",
       "    .dataframe tbody tr th {\n",
       "        vertical-align: top;\n",
       "    }\n",
       "\n",
       "    .dataframe thead th {\n",
       "        text-align: right;\n",
       "    }\n",
       "</style>\n",
       "<table border=\"1\" class=\"dataframe\">\n",
       "  <thead>\n",
       "    <tr style=\"text-align: right;\">\n",
       "      <th></th>\n",
       "      <th>gender</th>\n",
       "      <th>race/ethnicity</th>\n",
       "      <th>parental level of education</th>\n",
       "      <th>lunch</th>\n",
       "      <th>test preparation course</th>\n",
       "      <th>math score</th>\n",
       "      <th>reading score</th>\n",
       "      <th>writing score</th>\n",
       "    </tr>\n",
       "  </thead>\n",
       "  <tbody>\n",
       "    <tr>\n",
       "      <th>0</th>\n",
       "      <td>female</td>\n",
       "      <td>group B</td>\n",
       "      <td>bachelor's degree</td>\n",
       "      <td>standard</td>\n",
       "      <td>none</td>\n",
       "      <td>72</td>\n",
       "      <td>72</td>\n",
       "      <td>74</td>\n",
       "    </tr>\n",
       "    <tr>\n",
       "      <th>1</th>\n",
       "      <td>female</td>\n",
       "      <td>group C</td>\n",
       "      <td>some college</td>\n",
       "      <td>standard</td>\n",
       "      <td>completed</td>\n",
       "      <td>69</td>\n",
       "      <td>90</td>\n",
       "      <td>88</td>\n",
       "    </tr>\n",
       "    <tr>\n",
       "      <th>2</th>\n",
       "      <td>female</td>\n",
       "      <td>group B</td>\n",
       "      <td>master's degree</td>\n",
       "      <td>standard</td>\n",
       "      <td>none</td>\n",
       "      <td>90</td>\n",
       "      <td>95</td>\n",
       "      <td>93</td>\n",
       "    </tr>\n",
       "    <tr>\n",
       "      <th>3</th>\n",
       "      <td>male</td>\n",
       "      <td>group A</td>\n",
       "      <td>associate's degree</td>\n",
       "      <td>free/reduced</td>\n",
       "      <td>none</td>\n",
       "      <td>47</td>\n",
       "      <td>57</td>\n",
       "      <td>44</td>\n",
       "    </tr>\n",
       "    <tr>\n",
       "      <th>4</th>\n",
       "      <td>male</td>\n",
       "      <td>group C</td>\n",
       "      <td>some college</td>\n",
       "      <td>standard</td>\n",
       "      <td>none</td>\n",
       "      <td>76</td>\n",
       "      <td>78</td>\n",
       "      <td>75</td>\n",
       "    </tr>\n",
       "  </tbody>\n",
       "</table>\n",
       "</div>"
      ],
      "text/plain": [
       "   gender race/ethnicity parental level of education         lunch  \\\n",
       "0  female        group B           bachelor's degree      standard   \n",
       "1  female        group C                some college      standard   \n",
       "2  female        group B             master's degree      standard   \n",
       "3    male        group A          associate's degree  free/reduced   \n",
       "4    male        group C                some college      standard   \n",
       "\n",
       "  test preparation course  math score  reading score  writing score  \n",
       "0                    none          72             72             74  \n",
       "1               completed          69             90             88  \n",
       "2                    none          90             95             93  \n",
       "3                    none          47             57             44  \n",
       "4                    none          76             78             75  "
      ]
     },
     "execution_count": 8,
     "metadata": {},
     "output_type": "execute_result"
    }
   ],
   "source": [
    "df.head()"
   ]
  },
  {
   "cell_type": "markdown",
   "id": "c4476426",
   "metadata": {},
   "source": [
    "### Define Features"
   ]
  },
  {
   "cell_type": "code",
   "execution_count": 9,
   "id": "362a8f3a",
   "metadata": {},
   "outputs": [],
   "source": [
    "num_feature = [\"reading score\", \"writing score\"]\n",
    "cat_features = [\n",
    "    \"gender\",\n",
    "    \"race/ethnicity\",\n",
    "    \"parental level of education\",\n",
    "    \"lunch\",\n",
    "    \"test preparation course\"\n",
    "]"
   ]
  },
  {
   "cell_type": "markdown",
   "id": "3bfce369",
   "metadata": {},
   "source": [
    "## Train-Test Split"
   ]
  },
  {
   "cell_type": "code",
   "execution_count": 10,
   "id": "fa80d895",
   "metadata": {},
   "outputs": [],
   "source": [
    "X = df.drop(\"math score\" , axis=1)\n",
    "y = df[\"math score\"]\n",
    "\n",
    "X_train , X_test , y_train , y_test = train_test_split(\n",
    "     X , y , random_state=42\n",
    ")"
   ]
  },
  {
   "cell_type": "markdown",
   "id": "36b7cfea",
   "metadata": {},
   "source": [
    "### Encoding"
   ]
  },
  {
   "cell_type": "code",
   "execution_count": 11,
   "id": "557305ae",
   "metadata": {},
   "outputs": [],
   "source": [
    "from sklearn.preprocessing import OneHotEncoder\n",
    "\n",
    "# categorical columns\n",
    "cat_features = [\n",
    "    \"gender\",\n",
    "    \"race/ethnicity\",\n",
    "    \"parental level of education\",\n",
    "    \"lunch\",\n",
    "    \"test preparation course\"\n",
    "]\n",
    "\n",
    "encoder = OneHotEncoder(drop=\"first\", handle_unknown=\"ignore\")\n",
    "\n",
    "X_train_cat = encoder.fit_transform(X_train[cat_features]).toarray()\n",
    "X_test_cat = encoder.transform(X_test[cat_features]).toarray()\n",
    "\n",
    "# create new column names\n",
    "cat_new_cols = encoder.get_feature_names_out(cat_features)\n",
    "\n",
    "# make DataFrames\n",
    "X_train_cat = pd.DataFrame(X_train_cat, columns=cat_new_cols, index=X_train.index)\n",
    "X_test_cat = pd.DataFrame(X_test_cat, columns=cat_new_cols, index=X_test.index)\n",
    "\n",
    "# drop original categorical and join encoded\n",
    "X_train = X_train.drop(cat_features, axis=1).join(X_train_cat)\n",
    "X_test = X_test.drop(cat_features, axis=1).join(X_test_cat)\n"
   ]
  },
  {
   "cell_type": "markdown",
   "id": "838c8cc8",
   "metadata": {},
   "source": [
    "## Scaling"
   ]
  },
  {
   "cell_type": "code",
   "execution_count": 12,
   "id": "1e4bb2fa",
   "metadata": {},
   "outputs": [],
   "source": [
    "from sklearn.preprocessing import StandardScaler\n",
    "\n",
    "num_feature = [\"reading score\", \"writing score\"]\n",
    "\n",
    "scaler = StandardScaler()\n",
    "\n",
    "X_train[num_feature] = scaler.fit_transform(X_train[num_feature])\n",
    "X_test[num_feature] = scaler.transform(X_test[num_feature])\n"
   ]
  },
  {
   "cell_type": "markdown",
   "id": "73edb824",
   "metadata": {},
   "source": [
    "## Model Selection"
   ]
  },
  {
   "cell_type": "code",
   "execution_count": 13,
   "id": "2f13789c",
   "metadata": {},
   "outputs": [
    {
     "name": "stdout",
     "output_type": "stream",
     "text": [
      "\n",
      "LinearRegression\n",
      "Training Set -> RMSE: 5.2972, MAE: 4.2383, R2: 0.8743\n",
      "Test Set     -> RMSE: 5.4825, MAE: 4.3379, R2: 0.8778\n",
      "==================================================\n",
      "\n",
      "Lasso\n",
      "Training Set -> RMSE: 6.5469, MAE: 5.1796, R2: 0.8080\n",
      "Test Set     -> RMSE: 6.6500, MAE: 5.2184, R2: 0.8202\n",
      "==================================================\n",
      "\n",
      "Ridge\n",
      "Training Set -> RMSE: 5.2977, MAE: 4.2371, R2: 0.8743\n",
      "Test Set     -> RMSE: 5.4814, MAE: 4.3365, R2: 0.8779\n",
      "==================================================\n",
      "\n",
      "K-Neighbors Regressor\n",
      "Training Set -> RMSE: 5.6662, MAE: 4.5136, R2: 0.8562\n",
      "Test Set     -> RMSE: 7.1851, MAE: 5.5632, R2: 0.7902\n",
      "==================================================\n",
      "\n",
      "Decision Tree\n",
      "Training Set -> RMSE: 0.2887, MAE: 0.0200, R2: 0.9996\n",
      "Test Set     -> RMSE: 7.8442, MAE: 6.1240, R2: 0.7499\n",
      "==================================================\n",
      "\n",
      "Random Forest Regressor\n",
      "Training Set -> RMSE: 2.2808, MAE: 1.8248, R2: 0.9767\n",
      "Test Set     -> RMSE: 6.1594, MAE: 4.8441, R2: 0.8458\n",
      "==================================================\n",
      "\n",
      "XGBRegressor\n",
      "Training Set -> RMSE: 0.9169, MAE: 0.6051, R2: 0.9962\n",
      "Test Set     -> RMSE: 6.3952, MAE: 5.0380, R2: 0.8338\n",
      "==================================================\n",
      "\n",
      "CatBoostRegressor\n",
      "Training Set -> RMSE: 2.9935, MAE: 2.3475, R2: 0.9599\n",
      "Test Set     -> RMSE: 5.9997, MAE: 4.6608, R2: 0.8537\n",
      "==================================================\n",
      "\n",
      "AdaBoostRegressor\n",
      "Training Set -> RMSE: 5.8100, MAE: 4.7351, R2: 0.8488\n",
      "Test Set     -> RMSE: 6.1485, MAE: 4.8131, R2: 0.8463\n",
      "==================================================\n",
      "\n",
      "Summary of All Models (sorted by Test R2):\n",
      "                     Model  Train RMSE  Train MAE  Train R2  Test RMSE  \\\n",
      "2                    Ridge    5.297718   4.237113  0.874251   5.481414   \n",
      "0         LinearRegression    5.297245   4.238267  0.874273   5.482528   \n",
      "7        CatBoostRegressor    2.993462   2.347517  0.959851   5.999681   \n",
      "8        AdaBoostRegressor    5.809975   4.735149  0.848757   6.148549   \n",
      "5  Random Forest Regressor    2.280839   1.824787  0.976691   6.159359   \n",
      "6             XGBRegressor    0.916942   0.605088  0.996233   6.395175   \n",
      "1                    Lasso    6.546937   5.179565  0.807955   6.650049   \n",
      "3    K-Neighbors Regressor    5.666180   4.513600  0.856150   7.185073   \n",
      "4            Decision Tree    0.288675   0.020000  0.999627   7.844234   \n",
      "\n",
      "   Test MAE   Test R2  \n",
      "2  4.336520  0.877874  \n",
      "0  4.337931  0.877824  \n",
      "7  4.660790  0.853688  \n",
      "8  4.813059  0.846337  \n",
      "5  4.844079  0.845797  \n",
      "6  5.038007  0.833763  \n",
      "1  5.218406  0.820248  \n",
      "3  5.563200  0.790161  \n",
      "4  6.124000  0.749894  \n"
     ]
    }
   ],
   "source": [
    "def evaluate_model(y_true, y_pred):\n",
    "    mae = mean_absolute_error(y_true, y_pred)\n",
    "    rmse = np.sqrt(mean_squared_error(y_true, y_pred))\n",
    "    r2 = r2_score(y_true, y_pred)\n",
    "    return mae, rmse, r2\n",
    "\n",
    "\n",
    "models = {\n",
    "    \"LinearRegression\": LinearRegression(),\n",
    "    \"Lasso\": Lasso(),\n",
    "    \"Ridge\": Ridge(),\n",
    "    \"K-Neighbors Regressor\": KNeighborsRegressor(),\n",
    "    \"Decision Tree\": DecisionTreeRegressor(),\n",
    "    \"Random Forest Regressor\": RandomForestRegressor(),\n",
    "    \"XGBRegressor\": XGBRegressor(),\n",
    "    \"CatBoostRegressor\": CatBoostRegressor(verbose=0),\n",
    "    \"AdaBoostRegressor\": AdaBoostRegressor()\n",
    "}\n",
    "\n",
    "results = []\n",
    "\n",
    "for name, model in models.items():\n",
    "    model.fit(X_train, y_train)\n",
    "    \n",
    "    y_train_pred = model.predict(X_train)\n",
    "    y_test_pred = model.predict(X_test)\n",
    "    \n",
    "    train_mae, train_rmse, train_r2 = evaluate_model(y_train, y_train_pred)\n",
    "    test_mae, test_rmse, test_r2 = evaluate_model(y_test, y_test_pred)\n",
    "    \n",
    "    print(f\"\\n{name}\")\n",
    "    print(f\"Training Set -> RMSE: {train_rmse:.4f}, MAE: {train_mae:.4f}, R2: {train_r2:.4f}\")\n",
    "    print(f\"Test Set     -> RMSE: {test_rmse:.4f}, MAE: {test_mae:.4f}, R2: {test_r2:.4f}\")\n",
    "    print(\"=\"*50)\n",
    "    \n",
    "    # Save results\n",
    "    results.append({\n",
    "        \"Model\": name,\n",
    "        \"Train RMSE\": train_rmse,\n",
    "        \"Train MAE\": train_mae,\n",
    "        \"Train R2\": train_r2,\n",
    "        \"Test RMSE\": test_rmse,\n",
    "        \"Test MAE\": test_mae,\n",
    "        \"Test R2\": test_r2\n",
    "    })\n",
    "\n",
    "# Summary\n",
    "results_df = pd.DataFrame(results)\n",
    "results_df_sorted = results_df.sort_values(by=\"Test R2\", ascending=False)\n",
    "print(\"\\nSummary of All Models (sorted by Test R2):\")\n",
    "print(results_df_sorted)"
   ]
  },
  {
   "cell_type": "code",
   "execution_count": 14,
   "id": "54179ea1",
   "metadata": {},
   "outputs": [
    {
     "data": {
      "text/html": [
       "<div>\n",
       "<style scoped>\n",
       "    .dataframe tbody tr th:only-of-type {\n",
       "        vertical-align: middle;\n",
       "    }\n",
       "\n",
       "    .dataframe tbody tr th {\n",
       "        vertical-align: top;\n",
       "    }\n",
       "\n",
       "    .dataframe thead th {\n",
       "        text-align: right;\n",
       "    }\n",
       "</style>\n",
       "<table border=\"1\" class=\"dataframe\">\n",
       "  <thead>\n",
       "    <tr style=\"text-align: right;\">\n",
       "      <th></th>\n",
       "      <th>Model</th>\n",
       "      <th>Train RMSE</th>\n",
       "      <th>Train MAE</th>\n",
       "      <th>Train R2</th>\n",
       "      <th>Test RMSE</th>\n",
       "      <th>Test MAE</th>\n",
       "      <th>Test R2</th>\n",
       "    </tr>\n",
       "  </thead>\n",
       "  <tbody>\n",
       "    <tr>\n",
       "      <th>2</th>\n",
       "      <td>Ridge</td>\n",
       "      <td>5.297718</td>\n",
       "      <td>4.237113</td>\n",
       "      <td>0.874251</td>\n",
       "      <td>5.481414</td>\n",
       "      <td>4.336520</td>\n",
       "      <td>0.877874</td>\n",
       "    </tr>\n",
       "    <tr>\n",
       "      <th>0</th>\n",
       "      <td>LinearRegression</td>\n",
       "      <td>5.297245</td>\n",
       "      <td>4.238267</td>\n",
       "      <td>0.874273</td>\n",
       "      <td>5.482528</td>\n",
       "      <td>4.337931</td>\n",
       "      <td>0.877824</td>\n",
       "    </tr>\n",
       "    <tr>\n",
       "      <th>7</th>\n",
       "      <td>CatBoostRegressor</td>\n",
       "      <td>2.993462</td>\n",
       "      <td>2.347517</td>\n",
       "      <td>0.959851</td>\n",
       "      <td>5.999681</td>\n",
       "      <td>4.660790</td>\n",
       "      <td>0.853688</td>\n",
       "    </tr>\n",
       "    <tr>\n",
       "      <th>8</th>\n",
       "      <td>AdaBoostRegressor</td>\n",
       "      <td>5.809975</td>\n",
       "      <td>4.735149</td>\n",
       "      <td>0.848757</td>\n",
       "      <td>6.148549</td>\n",
       "      <td>4.813059</td>\n",
       "      <td>0.846337</td>\n",
       "    </tr>\n",
       "    <tr>\n",
       "      <th>5</th>\n",
       "      <td>Random Forest Regressor</td>\n",
       "      <td>2.280839</td>\n",
       "      <td>1.824787</td>\n",
       "      <td>0.976691</td>\n",
       "      <td>6.159359</td>\n",
       "      <td>4.844079</td>\n",
       "      <td>0.845797</td>\n",
       "    </tr>\n",
       "    <tr>\n",
       "      <th>6</th>\n",
       "      <td>XGBRegressor</td>\n",
       "      <td>0.916942</td>\n",
       "      <td>0.605088</td>\n",
       "      <td>0.996233</td>\n",
       "      <td>6.395175</td>\n",
       "      <td>5.038007</td>\n",
       "      <td>0.833763</td>\n",
       "    </tr>\n",
       "    <tr>\n",
       "      <th>1</th>\n",
       "      <td>Lasso</td>\n",
       "      <td>6.546937</td>\n",
       "      <td>5.179565</td>\n",
       "      <td>0.807955</td>\n",
       "      <td>6.650049</td>\n",
       "      <td>5.218406</td>\n",
       "      <td>0.820248</td>\n",
       "    </tr>\n",
       "    <tr>\n",
       "      <th>3</th>\n",
       "      <td>K-Neighbors Regressor</td>\n",
       "      <td>5.666180</td>\n",
       "      <td>4.513600</td>\n",
       "      <td>0.856150</td>\n",
       "      <td>7.185073</td>\n",
       "      <td>5.563200</td>\n",
       "      <td>0.790161</td>\n",
       "    </tr>\n",
       "    <tr>\n",
       "      <th>4</th>\n",
       "      <td>Decision Tree</td>\n",
       "      <td>0.288675</td>\n",
       "      <td>0.020000</td>\n",
       "      <td>0.999627</td>\n",
       "      <td>7.844234</td>\n",
       "      <td>6.124000</td>\n",
       "      <td>0.749894</td>\n",
       "    </tr>\n",
       "  </tbody>\n",
       "</table>\n",
       "</div>"
      ],
      "text/plain": [
       "                     Model  Train RMSE  Train MAE  Train R2  Test RMSE  \\\n",
       "2                    Ridge    5.297718   4.237113  0.874251   5.481414   \n",
       "0         LinearRegression    5.297245   4.238267  0.874273   5.482528   \n",
       "7        CatBoostRegressor    2.993462   2.347517  0.959851   5.999681   \n",
       "8        AdaBoostRegressor    5.809975   4.735149  0.848757   6.148549   \n",
       "5  Random Forest Regressor    2.280839   1.824787  0.976691   6.159359   \n",
       "6             XGBRegressor    0.916942   0.605088  0.996233   6.395175   \n",
       "1                    Lasso    6.546937   5.179565  0.807955   6.650049   \n",
       "3    K-Neighbors Regressor    5.666180   4.513600  0.856150   7.185073   \n",
       "4            Decision Tree    0.288675   0.020000  0.999627   7.844234   \n",
       "\n",
       "   Test MAE   Test R2  \n",
       "2  4.336520  0.877874  \n",
       "0  4.337931  0.877824  \n",
       "7  4.660790  0.853688  \n",
       "8  4.813059  0.846337  \n",
       "5  4.844079  0.845797  \n",
       "6  5.038007  0.833763  \n",
       "1  5.218406  0.820248  \n",
       "3  5.563200  0.790161  \n",
       "4  6.124000  0.749894  "
      ]
     },
     "execution_count": 14,
     "metadata": {},
     "output_type": "execute_result"
    }
   ],
   "source": [
    "results_df = pd.DataFrame(results)\n",
    "results_df.sort_values(by=\"Test R2\", ascending=False)\n"
   ]
  },
  {
   "cell_type": "markdown",
   "id": "a54c5c8b",
   "metadata": {},
   "source": [
    "### Model Selection"
   ]
  },
  {
   "cell_type": "code",
   "execution_count": 15,
   "id": "2ee8a281",
   "metadata": {},
   "outputs": [
    {
     "data": {
      "text/html": [
       "<div>\n",
       "<style scoped>\n",
       "    .dataframe tbody tr th:only-of-type {\n",
       "        vertical-align: middle;\n",
       "    }\n",
       "\n",
       "    .dataframe tbody tr th {\n",
       "        vertical-align: top;\n",
       "    }\n",
       "\n",
       "    .dataframe thead th {\n",
       "        text-align: right;\n",
       "    }\n",
       "</style>\n",
       "<table border=\"1\" class=\"dataframe\">\n",
       "  <thead>\n",
       "    <tr style=\"text-align: right;\">\n",
       "      <th></th>\n",
       "      <th>Model</th>\n",
       "      <th>Test R2</th>\n",
       "    </tr>\n",
       "  </thead>\n",
       "  <tbody>\n",
       "    <tr>\n",
       "      <th>2</th>\n",
       "      <td>Ridge</td>\n",
       "      <td>0.877874</td>\n",
       "    </tr>\n",
       "    <tr>\n",
       "      <th>0</th>\n",
       "      <td>LinearRegression</td>\n",
       "      <td>0.877824</td>\n",
       "    </tr>\n",
       "    <tr>\n",
       "      <th>7</th>\n",
       "      <td>CatBoostRegressor</td>\n",
       "      <td>0.853688</td>\n",
       "    </tr>\n",
       "    <tr>\n",
       "      <th>8</th>\n",
       "      <td>AdaBoostRegressor</td>\n",
       "      <td>0.846337</td>\n",
       "    </tr>\n",
       "    <tr>\n",
       "      <th>5</th>\n",
       "      <td>Random Forest Regressor</td>\n",
       "      <td>0.845797</td>\n",
       "    </tr>\n",
       "    <tr>\n",
       "      <th>6</th>\n",
       "      <td>XGBRegressor</td>\n",
       "      <td>0.833763</td>\n",
       "    </tr>\n",
       "    <tr>\n",
       "      <th>1</th>\n",
       "      <td>Lasso</td>\n",
       "      <td>0.820248</td>\n",
       "    </tr>\n",
       "    <tr>\n",
       "      <th>3</th>\n",
       "      <td>K-Neighbors Regressor</td>\n",
       "      <td>0.790161</td>\n",
       "    </tr>\n",
       "    <tr>\n",
       "      <th>4</th>\n",
       "      <td>Decision Tree</td>\n",
       "      <td>0.749894</td>\n",
       "    </tr>\n",
       "  </tbody>\n",
       "</table>\n",
       "</div>"
      ],
      "text/plain": [
       "                     Model   Test R2\n",
       "2                    Ridge  0.877874\n",
       "0         LinearRegression  0.877824\n",
       "7        CatBoostRegressor  0.853688\n",
       "8        AdaBoostRegressor  0.846337\n",
       "5  Random Forest Regressor  0.845797\n",
       "6             XGBRegressor  0.833763\n",
       "1                    Lasso  0.820248\n",
       "3    K-Neighbors Regressor  0.790161\n",
       "4            Decision Tree  0.749894"
      ]
     },
     "execution_count": 15,
     "metadata": {},
     "output_type": "execute_result"
    }
   ],
   "source": [
    "pd.DataFrame(results)[[\"Model\", \"Test R2\"]].sort_values(by=\"Test R2\", ascending=False)\n"
   ]
  },
  {
   "cell_type": "markdown",
   "id": "3ec5ba9d",
   "metadata": {},
   "source": [
    "## Linear Regression"
   ]
  },
  {
   "cell_type": "code",
   "execution_count": 16,
   "id": "32abe508",
   "metadata": {},
   "outputs": [
    {
     "name": "stdout",
     "output_type": "stream",
     "text": [
      "\n",
      "✅ Final Model: Linear Regression\n",
      "Training Set -> RMSE: 5.2972, MAE: 4.2383, R2: 0.8743\n",
      "Test Set     -> RMSE: 5.4825, MAE: 4.3379, R2: 0.8778\n"
     ]
    }
   ],
   "source": [
    "best_model = LinearRegression()\n",
    "best_model.fit(X_train, y_train)\n",
    "\n",
    "y_train_best = best_model.predict(X_train)\n",
    "y_test_best = best_model.predict(X_test)\n",
    "\n",
    "train_mae, train_rmse, train_r2 = evaluate_model(y_train, y_train_best)\n",
    "test_mae, test_rmse, test_r2 = evaluate_model(y_test, y_test_best)\n",
    "\n",
    "print(\"\\n✅ Final Model: Linear Regression\")\n",
    "print(f\"Training Set -> RMSE: {train_rmse:.4f}, MAE: {train_mae:.4f}, R2: {train_r2:.4f}\")\n",
    "print(f\"Test Set     -> RMSE: {test_rmse:.4f}, MAE: {test_mae:.4f}, R2: {test_r2:.4f}\")"
   ]
  },
  {
   "cell_type": "markdown",
   "id": "7ae118da",
   "metadata": {},
   "source": [
    "### Plot y_pred and y_test"
   ]
  },
  {
   "cell_type": "code",
   "execution_count": 18,
   "id": "eacdaa24",
   "metadata": {},
   "outputs": [
    {
     "data": {
      "image/png": "[encoded data removed]",
      "text/plain": [
       "<Figure size 640x480 with 1 Axes>"
      ]
     },
     "metadata": {},
     "output_type": "display_data"
    }
   ],
   "source": [
    "plt.scatter(y_test, y_test_pred)\n",
    "plt.xlabel('Actual')\n",
    "plt.ylabel('Predicted')\n",
    "plt.title('Linear Regression Predictions')\n",
    "plt.show()"
   ]
  },
  {
   "cell_type": "code",
   "execution_count": 19,
   "id": "c15dc4c0",
   "metadata": {},
   "outputs": [
    {
     "data": {
      "text/plain": [
       "<Axes: xlabel='math score'>"
      ]
     },
     "execution_count": 19,
     "metadata": {},
     "output_type": "execute_result"
    },
    {
     "data": {
      "image/png": "[encoded data removed]",
      "text/plain": [
       "<Figure size 640x480 with 1 Axes>"
      ]
     },
     "metadata": {},
     "output_type": "display_data"
    }
   ],
   "source": [
    "sns.regplot(x=y_test , y=y_test_pred , ci=None , color='red')"
   ]
  },
  {
   "cell_type": "markdown",
   "id": "3a8eefb1",
   "metadata": {},
   "source": [
    "### Difference between Actual and Predicted Values"
   ]
  },
  {
   "cell_type": "code",
   "execution_count": 20,
   "id": "fe43de19",
   "metadata": {},
   "outputs": [
    {
     "data": {
      "text/html": [
       "<div>\n",
       "<style scoped>\n",
       "    .dataframe tbody tr th:only-of-type {\n",
       "        vertical-align: middle;\n",
       "    }\n",
       "\n",
       "    .dataframe tbody tr th {\n",
       "        vertical-align: top;\n",
       "    }\n",
       "\n",
       "    .dataframe thead th {\n",
       "        text-align: right;\n",
       "    }\n",
       "</style>\n",
       "<table border=\"1\" class=\"dataframe\">\n",
       "  <thead>\n",
       "    <tr style=\"text-align: right;\">\n",
       "      <th></th>\n",
       "      <th>Actual Value</th>\n",
       "      <th>Predicted Value</th>\n",
       "      <th>Difference</th>\n",
       "    </tr>\n",
       "  </thead>\n",
       "  <tbody>\n",
       "    <tr>\n",
       "      <th>521</th>\n",
       "      <td>91</td>\n",
       "      <td>76.896552</td>\n",
       "      <td>14.103448</td>\n",
       "    </tr>\n",
       "    <tr>\n",
       "      <th>737</th>\n",
       "      <td>53</td>\n",
       "      <td>55.467290</td>\n",
       "      <td>-2.467290</td>\n",
       "    </tr>\n",
       "    <tr>\n",
       "      <th>740</th>\n",
       "      <td>80</td>\n",
       "      <td>77.928177</td>\n",
       "      <td>2.071823</td>\n",
       "    </tr>\n",
       "    <tr>\n",
       "      <th>660</th>\n",
       "      <td>74</td>\n",
       "      <td>77.928177</td>\n",
       "      <td>-3.928177</td>\n",
       "    </tr>\n",
       "    <tr>\n",
       "      <th>411</th>\n",
       "      <td>84</td>\n",
       "      <td>82.277311</td>\n",
       "      <td>1.722689</td>\n",
       "    </tr>\n",
       "    <tr>\n",
       "      <th>...</th>\n",
       "      <td>...</td>\n",
       "      <td>...</td>\n",
       "      <td>...</td>\n",
       "    </tr>\n",
       "    <tr>\n",
       "      <th>109</th>\n",
       "      <td>70</td>\n",
       "      <td>60.554404</td>\n",
       "      <td>9.445596</td>\n",
       "    </tr>\n",
       "    <tr>\n",
       "      <th>430</th>\n",
       "      <td>64</td>\n",
       "      <td>62.632911</td>\n",
       "      <td>1.367089</td>\n",
       "    </tr>\n",
       "    <tr>\n",
       "      <th>77</th>\n",
       "      <td>80</td>\n",
       "      <td>79.225352</td>\n",
       "      <td>0.774648</td>\n",
       "    </tr>\n",
       "    <tr>\n",
       "      <th>84</th>\n",
       "      <td>42</td>\n",
       "      <td>41.380952</td>\n",
       "      <td>0.619048</td>\n",
       "    </tr>\n",
       "    <tr>\n",
       "      <th>286</th>\n",
       "      <td>97</td>\n",
       "      <td>84.971591</td>\n",
       "      <td>12.028409</td>\n",
       "    </tr>\n",
       "  </tbody>\n",
       "</table>\n",
       "<p>250 rows × 3 columns</p>\n",
       "</div>"
      ],
      "text/plain": [
       "     Actual Value  Predicted Value  Difference\n",
       "521            91        76.896552   14.103448\n",
       "737            53        55.467290   -2.467290\n",
       "740            80        77.928177    2.071823\n",
       "660            74        77.928177   -3.928177\n",
       "411            84        82.277311    1.722689\n",
       "..            ...              ...         ...\n",
       "109            70        60.554404    9.445596\n",
       "430            64        62.632911    1.367089\n",
       "77             80        79.225352    0.774648\n",
       "84             42        41.380952    0.619048\n",
       "286            97        84.971591   12.028409\n",
       "\n",
       "[250 rows x 3 columns]"
      ]
     },
     "execution_count": 20,
     "metadata": {},
     "output_type": "execute_result"
    }
   ],
   "source": [
    "pred_df = pd.DataFrame({'Actual Value': y_test , 'Predicted Value': y_test_pred , 'Difference': y_test-y_test_pred})\n",
    "pred_df"
   ]
  },
  {
   "cell_type": "markdown",
   "id": "5a3d9653",
   "metadata": {},
   "source": [
    "## Save Model"
   ]
  },
  {
   "cell_type": "code",
   "execution_count": 21,
   "id": "0894213b",
   "metadata": {},
   "outputs": [
    {
     "name": "stdout",
     "output_type": "stream",
     "text": [
      "✅ Model and preprocessing objects saved successfully!\n"
     ]
    }
   ],
   "source": [
    "import os\n",
    "import pickle\n",
    "\n",
    "models_path = r\"c:\\\\Users\\\\admin\\\\OneDrive\\\\Documents\\\\GitHub\\\\student-performance-indicator-ml-project\\\\models\"\n",
    "\n",
    "os.makedirs(models_path, exist_ok=True)\n",
    "\n",
    "with open(\"linear_regression_model.pkl\", \"wb\") as f:\n",
    "    pickle.dump(best_model, f)\n",
    "\n",
    "with open(\"onehot_encoder.pkl\", \"wb\") as f:\n",
    "    pickle.dump(encoder, f)\n",
    "\n",
    "with open(\"scaler.pkl\", \"wb\") as f:\n",
    "    pickle.dump(scaler, f)\n",
    "\n",
    "print(\"✅ Model and preprocessing objects saved successfully!\")\n"
   ]
  },
  {
   "cell_type": "code",
   "execution_count": null,
   "id": "9cfb9c72",
   "metadata": {},
   "outputs": [],
   "source": []
  }
 ],
 "metadata": {
  "kernelspec": {
   "display_name": "Python 3",
   "language": "python",
   "name": "python3"
  },
  "language_info": {
   "codemirror_mode": {
    "name": "ipython",
    "version": 3
   },
   "file_extension": ".py",
   "mimetype": "text/x-python",
   "name": "python",
   "nbconvert_exporter": "python",
   "pygments_lexer": "ipython3",
   "version": "3.12.10"
  }
 },
 "nbformat": 4,
 "nbformat_minor": 5
}
